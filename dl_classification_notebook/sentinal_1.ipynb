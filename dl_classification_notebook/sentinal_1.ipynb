{
 "cells": [
  {
   "cell_type": "code",
   "execution_count": 1,
   "id": "1f202b00-6e43-4747-9e26-6758489ba623",
   "metadata": {},
   "outputs": [],
   "source": [
    "import torch\n",
    "import torch.nn as nn\n",
    "import torch.optim as optim\n",
    "import torch.nn.functional as F\n",
    "import matplotlib.pyplot as plt\n",
    "from torch.utils.data import Dataset, DataLoader\n",
    "import h5py\n",
    "import gc\n",
    "\n",
    "gc.collect()  # Clear unused memory\n",
    "torch.cuda.empty_cache()"
   ]
  },
  {
   "cell_type": "code",
   "execution_count": 2,
   "id": "92b6d296-31f2-4240-a57b-2b4e89421b94",
   "metadata": {},
   "outputs": [],
   "source": [
    "# Load the .h5 file into memory once\n",
    "h5_file_path_train = r\"C:\\Users\\nadav.k\\Documents\\DS\\DL_classification\\classification_data\\training_10perc_of_20_subset.h5\"\n",
    "h5_file_path_test = r\"C:\\Users\\nadav.k\\Documents\\DS\\DL_classification\\classification_data\\testing_10perc_of_20_subset.h5\"\n",
    "\n",
    "# Open the H5 files\n",
    "h5_train = h5py.File(h5_file_path_train, 'r')\n",
    "h5_test = h5py.File(h5_file_path_test, 'r')\n",
    "\n",
    "# Extract datasets\n",
    "train_sen1_data = h5_train['sen1']\n",
    "#train_sen2_data = h5_train['sen2']\n",
    "train_labels = h5_train['label']\n",
    "\n",
    "test_sen1_data = h5_test['sen1']\n",
    "#test_sen2_data = h5_test['sen2']\n",
    "test_labels = h5_test['label']\n"
   ]
  },
  {
   "cell_type": "code",
   "execution_count": 3,
   "id": "1bc587cb-aa92-4542-becd-93fc0d964e80",
   "metadata": {},
   "outputs": [],
   "source": [
    "class Sentinel1Dataset(Dataset):\n",
    "    def __init__(self, sen1_data, labels):\n",
    "        self.sen1_data = sen1_data\n",
    "        self.labels = labels\n",
    "\n",
    "    def __len__(self):\n",
    "        return self.labels.shape[0]\n",
    "\n",
    "    def __getitem__(self, idx):\n",
    "        # Extract Sentinel-1 image and label\n",
    "        sen1_image = self.sen1_data[idx]\n",
    "        label = self.labels[idx]\n",
    "\n",
    "        # Convert to PyTorch tensors\n",
    "        sen1_image = torch.tensor(sen1_image, dtype=torch.float32).permute(2, 0, 1)\n",
    "\n",
    "        # Convert one-hot encoded label to class index\n",
    "        label = torch.tensor(label, dtype=torch.float32)\n",
    "        label = torch.argmax(label).long()\n",
    "\n",
    "        return sen1_image, label\n"
   ]
  },
  {
   "cell_type": "code",
   "execution_count": 4,
   "id": "7290165f-767a-4cb0-8d32-484a54edda9a",
   "metadata": {},
   "outputs": [],
   "source": [
    "# Create datasets\n",
    "train_dataset = Sentinel1Dataset(train_sen1_data, train_labels)\n",
    "test_dataset = Sentinel1Dataset(test_sen1_data, test_labels)\n",
    "\n",
    "# Create data loaders\n",
    "train_loader = DataLoader(train_dataset, batch_size=128, shuffle=True)\n",
    "test_loader = DataLoader(test_dataset, batch_size=128, shuffle=False)\n",
    "\n"
   ]
  },
  {
   "cell_type": "code",
   "execution_count": 5,
   "id": "af72eee8-93ad-4e93-8731-2907c8cc6804",
   "metadata": {},
   "outputs": [],
   "source": [
    "class Sentinel1ConvNet(nn.Module):\n",
    "    def __init__(self, num_classes=17):\n",
    "        super(Sentinel1ConvNet, self).__init__()\n",
    "\n",
    "        # Sentinel-1 branch\n",
    "        self.conv1 = nn.Conv2d(8, 32, kernel_size=3, padding=1)\n",
    "        self.dropout1 = nn.Dropout(p=0.25)\n",
    "        self.conv2 = nn.Conv2d(32, 64, kernel_size=3, padding=1)\n",
    "        self.dropout2 = nn.Dropout(p=0.25)\n",
    "        self.pool = nn.MaxPool2d(2, 2)\n",
    "\n",
    "        # Fully connected layers\n",
    "        self.fc1 = nn.Linear(64 * 16 * 16, 128)\n",
    "        self.fc1_dropout = nn.Dropout(p=0.5)\n",
    "        self.fc2 = nn.Linear(128, 64)\n",
    "        self.fc2_dropout = nn.Dropout(p=0.5)\n",
    "        self.fc3 = nn.Linear(64, num_classes)\n",
    "\n",
    "    def forward(self, x):\n",
    "        # Sentinel-1 forward pass\n",
    "        x = F.relu(self.conv1(x))\n",
    "        x = self.dropout1(x)\n",
    "        x = self.pool(F.relu(self.conv2(x)))\n",
    "        x = self.dropout2(x)\n",
    "        x = x.view(x.size(0), -1)\n",
    "\n",
    "        # Fully connected layers\n",
    "        x = F.relu(self.fc1(x))\n",
    "        x = self.fc1_dropout(x)\n",
    "        x = F.relu(self.fc2(x))\n",
    "        x = self.fc2_dropout(x)\n",
    "        x = self.fc3(x)\n",
    "\n",
    "        return x\n"
   ]
  },
  {
   "cell_type": "code",
   "execution_count": 6,
   "id": "3bc19835-511d-4c36-979e-45bca8aa419a",
   "metadata": {},
   "outputs": [],
   "source": [
    "# Training function with visualization and memory clearing\n",
    "def train_model(model, train_loader, criterion, optimizer, num_epochs, device='cuda'):\n",
    "    model.to(device)\n",
    "    model.train()\n",
    "\n",
    "    train_losses = []  # List to store training loss for visualization\n",
    "\n",
    "    for epoch in range(num_epochs):\n",
    "        running_loss = 0.0\n",
    "        epoch_loss = 0.0\n",
    "\n",
    "        for i, (sen1, labels) in enumerate(train_loader):\n",
    "            sen1, labels = sen1.to(device), labels.to(device)\n",
    "\n",
    "            optimizer.zero_grad()\n",
    "            outputs = model(sen1)  # Forward pass\n",
    "            loss = criterion(outputs, labels)  # Compute loss\n",
    "            loss.backward()  # Backpropagation\n",
    "            optimizer.step()  # Update weights\n",
    "\n",
    "            running_loss += loss.item()\n",
    "            epoch_loss += loss.item()\n",
    "\n",
    "            # Clear memory for each batch (optional but not usually necessary here)\n",
    "            del outputs, loss\n",
    "\n",
    "            if i % 100 == 99:  # Print every 100 mini-batches\n",
    "                print(f'Epoch [{epoch + 1}/{num_epochs}], Step [{i + 1}/{len(train_loader)}], Loss: {running_loss / 100:.4f}')\n",
    "                running_loss = 0.0\n",
    "\n",
    "        # Average loss for the epoch\n",
    "        epoch_loss /= len(train_loader)\n",
    "        train_losses.append(epoch_loss)\n",
    "        print(f'Epoch [{epoch + 1}/{num_epochs}] Average Loss: {epoch_loss:.4f}')\n",
    "\n",
    "        # Clear unused memory after each epoch\n",
    "        torch.cuda.empty_cache()  # Clear GPU memory\n",
    "        gc.collect()  # Trigger garbage collection for CPU memory\n",
    "\n",
    "    print('Training complete')\n",
    "\n",
    "    # Visualization of training loss\n",
    "    plt.figure(figsize=(10, 6))\n",
    "    plt.plot(range(1, len(train_losses) + 1), train_losses, marker='o', label='Training Loss')\n",
    "    plt.xlabel('Epoch')\n",
    "    plt.ylabel('Loss')\n",
    "    plt.title('Training Loss Over Epochs')\n",
    "    plt.legend()\n",
    "    plt.grid()\n",
    "    plt.show()\n"
   ]
  },
  {
   "cell_type": "code",
   "execution_count": 7,
   "id": "a2a944cd-1dd6-499f-a423-c896286faee5",
   "metadata": {},
   "outputs": [],
   "source": [
    "def evaluate_model(model, test_loader, criterion, device='cuda'):\n",
    "    model.to(device)\n",
    "    model.eval()\n",
    "\n",
    "    total_loss = 0.0\n",
    "    correct_predictions = 0\n",
    "    total_samples = 0\n",
    "\n",
    "    with torch.no_grad():\n",
    "        for sen1, labels in test_loader:\n",
    "            sen1, labels = sen1.to(device), labels.to(device)\n",
    "            outputs = model(sen1)\n",
    "\n",
    "            # Calculate loss\n",
    "            loss = criterion(outputs, labels)\n",
    "            total_loss += loss.item()\n",
    "\n",
    "            # Calculate accuracy\n",
    "            predicted = torch.argmax(outputs, dim=1)\n",
    "            correct_predictions += (predicted == labels).sum().item()\n",
    "            total_samples += labels.size(0)\n",
    "\n",
    "    avg_loss = total_loss / len(test_loader)\n",
    "    accuracy = correct_predictions / total_samples\n",
    "\n",
    "    print(f'Average Test Loss: {avg_loss:.4f}, Accuracy: {accuracy:.4f}')\n",
    "\n",
    "    # Visualization (optional)\n",
    "    plt.figure(figsize=(6, 4))\n",
    "    plt.bar(['Loss', 'Accuracy'], [avg_loss, accuracy])\n",
    "    plt.title('Evaluation Results')\n",
    "    plt.ylabel('Value')\n",
    "    plt.grid()\n",
    "    plt.show()\n",
    "\n",
    "    return avg_loss, accuracy\n"
   ]
  },
  {
   "cell_type": "code",
   "execution_count": 8,
   "id": "9f2058e0-4b17-47f1-9625-5d906d23089e",
   "metadata": {},
   "outputs": [],
   "source": [
    "# Initialize model, loss function, and optimizer\n",
    "model = Sentinel1ConvNet(num_classes=17)  # Adjust num_classes based on your dataset\n",
    "criterion = nn.CrossEntropyLoss()  # Loss function\n",
    "optimizer = optim.Adam(model.parameters(), lr=0.001)"
   ]
  },
  {
   "cell_type": "code",
   "execution_count": 9,
   "id": "e5ee8278-26b1-4b53-9f2d-7eb8f1778b8f",
   "metadata": {},
   "outputs": [
    {
     "name": "stdout",
     "output_type": "stream",
     "text": [
      "Epoch [1/50] Average Loss: 2.6428\n",
      "Epoch [2/50] Average Loss: 2.2590\n",
      "Epoch [3/50] Average Loss: 2.1058\n",
      "Epoch [4/50] Average Loss: 2.0136\n",
      "Epoch [5/50] Average Loss: 1.9839\n",
      "Epoch [6/50] Average Loss: 1.9183\n",
      "Epoch [7/50] Average Loss: 1.9014\n",
      "Epoch [8/50] Average Loss: 1.8318\n",
      "Epoch [9/50] Average Loss: 1.8042\n",
      "Epoch [10/50] Average Loss: 1.7631\n",
      "Epoch [11/50] Average Loss: 1.7143\n",
      "Epoch [12/50] Average Loss: 1.6536\n",
      "Epoch [13/50] Average Loss: 1.6099\n",
      "Epoch [14/50] Average Loss: 1.5783\n",
      "Epoch [15/50] Average Loss: 1.5242\n",
      "Epoch [16/50] Average Loss: 1.4913\n",
      "Epoch [17/50] Average Loss: 1.4567\n",
      "Epoch [18/50] Average Loss: 1.3754\n",
      "Epoch [19/50] Average Loss: 1.3515\n",
      "Epoch [20/50] Average Loss: 1.3166\n",
      "Epoch [21/50] Average Loss: 1.2701\n",
      "Epoch [22/50] Average Loss: 1.2245\n",
      "Epoch [23/50] Average Loss: 1.1834\n",
      "Epoch [24/50] Average Loss: 1.1477\n",
      "Epoch [25/50] Average Loss: 1.1187\n",
      "Epoch [26/50] Average Loss: 1.0626\n",
      "Epoch [27/50] Average Loss: 1.0356\n",
      "Epoch [28/50] Average Loss: 0.9928\n",
      "Epoch [29/50] Average Loss: 0.9782\n",
      "Epoch [30/50] Average Loss: 0.9388\n",
      "Epoch [31/50] Average Loss: 0.9361\n",
      "Epoch [32/50] Average Loss: 0.9159\n",
      "Epoch [33/50] Average Loss: 0.8803\n",
      "Epoch [34/50] Average Loss: 0.8514\n",
      "Epoch [35/50] Average Loss: 0.8296\n",
      "Epoch [36/50] Average Loss: 0.7893\n",
      "Epoch [37/50] Average Loss: 0.7589\n",
      "Epoch [38/50] Average Loss: 0.7527\n",
      "Epoch [39/50] Average Loss: 0.7419\n",
      "Epoch [40/50] Average Loss: 0.7270\n",
      "Epoch [41/50] Average Loss: 0.7129\n",
      "Epoch [42/50] Average Loss: 0.6934\n",
      "Epoch [43/50] Average Loss: 0.6749\n",
      "Epoch [44/50] Average Loss: 0.6652\n",
      "Epoch [45/50] Average Loss: 0.6467\n",
      "Epoch [46/50] Average Loss: 0.6865\n",
      "Epoch [47/50] Average Loss: 0.6496\n",
      "Epoch [48/50] Average Loss: 0.6132\n",
      "Epoch [49/50] Average Loss: 0.5612\n",
      "Epoch [50/50] Average Loss: 0.5626\n",
      "Training complete\n"
     ]
    },
    {
     "data": {
      "image/png": "[encoded data removed]",
      "text/plain": [
       "<Figure size 1000x600 with 1 Axes>"
      ]
     },
     "metadata": {},
     "output_type": "display_data"
    }
   ],
   "source": [
    "# Train the model\n",
    "gc.collect()\n",
    "train_model(model, train_loader, criterion, optimizer, num_epochs=50, device='cuda')"
   ]
  },
  {
   "cell_type": "code",
   "execution_count": 10,
   "id": "4938260d-d795-4254-9e05-d888c65f9311",
   "metadata": {},
   "outputs": [
    {
     "name": "stdout",
     "output_type": "stream",
     "text": [
      "Average Test Loss: 2.8920, Accuracy: 0.4465\n"
     ]
    },
    {
     "data": {
      "image/png": "[encoded data removed]",
      "text/plain": [
       "<Figure size 600x400 with 1 Axes>"
      ]
     },
     "metadata": {},
     "output_type": "display_data"
    },
    {
     "data": {
      "text/plain": [
       "(2.8920135498046875, 0.4464621164683782)"
      ]
     },
     "execution_count": 10,
     "metadata": {},
     "output_type": "execute_result"
    }
   ],
   "source": [
    "# Perform evaluation\n",
    "gc.collect()\n",
    "evaluate_model(model, test_loader, criterion, device='cuda')"
   ]
  }
 ],
 "metadata": {
  "kernelspec": {
   "display_name": "Python (venv)",
   "language": "python",
   "name": "venv"
  },
  "language_info": {
   "codemirror_mode": {
    "name": "ipython",
    "version": 3
   },
   "file_extension": ".py",
   "mimetype": "text/x-python",
   "name": "python",
   "nbconvert_exporter": "python",
   "pygments_lexer": "ipython3",
   "version": "3.11.9"
  }
 },
 "nbformat": 4,
 "nbformat_minor": 5
}
