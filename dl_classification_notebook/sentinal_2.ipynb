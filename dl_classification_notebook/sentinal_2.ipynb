{
 "cells": [
  {
   "cell_type": "code",
   "execution_count": 10,
   "id": "4172e526-0fa0-455b-8041-be7781b0b746",
   "metadata": {},
   "outputs": [],
   "source": [
    "import torch\n",
    "import torch.nn as nn\n",
    "import torch.optim as optim\n",
    "import torch.nn.functional as F\n",
    "import matplotlib.pyplot as plt\n",
    "from torch.utils.data import Dataset, DataLoader\n",
    "import h5py\n",
    "import gc\n",
    "\n",
    "gc.collect()  # Clear unused memory\n",
    "torch.cuda.empty_cache()"
   ]
  },
  {
   "cell_type": "code",
   "execution_count": 11,
   "id": "dc3d609f-5b72-48eb-a4ec-a87dafdff2ed",
   "metadata": {},
   "outputs": [],
   "source": [
    "# Load the .h5 file into memory once\n",
    "h5_file_path_train = r\"C:\\Users\\nadav.k\\Documents\\DS\\DL_classification\\classification_data\\training_10perc_of_20_subset.h5\"\n",
    "h5_file_path_test = r\"C:\\Users\\nadav.k\\Documents\\DS\\DL_classification\\classification_data\\testing_10perc_of_20_subset.h5\"\n",
    "\n",
    "# Open the H5 files\n",
    "h5_train = h5py.File(h5_file_path_train, 'r')\n",
    "h5_test = h5py.File(h5_file_path_test, 'r')\n",
    "\n",
    "# Extract datasets\n",
    "#train_sen1_data = h5_train['sen1']\n",
    "train_sen2_data = h5_train['sen2']\n",
    "train_labels = h5_train['label']\n",
    "\n",
    "#test_sen1_data = h5_test['sen1']\n",
    "test_sen2_data = h5_test['sen2']\n",
    "test_labels = h5_test['label']\n"
   ]
  },
  {
   "cell_type": "code",
   "execution_count": 12,
   "id": "2dfb0654-8a29-4446-bc74-cb1e7411a57a",
   "metadata": {},
   "outputs": [],
   "source": [
    "class Sentinel2Dataset(Dataset):\n",
    "    def __init__(self, sen2_data, labels):\n",
    "        self.sen2_data = sen2_data\n",
    "        self.labels = labels\n",
    "\n",
    "    def __len__(self):\n",
    "        return self.labels.shape[0]\n",
    "\n",
    "    def __getitem__(self, idx):\n",
    "        # Extract Sentinel-2 image and label\n",
    "        sen2_image = self.sen2_data[idx]\n",
    "        label = self.labels[idx]\n",
    "\n",
    "        # Convert to PyTorch tensors\n",
    "        sen2_image = torch.tensor(sen2_image, dtype=torch.float32).permute(2, 0, 1)\n",
    "\n",
    "        # Convert one-hot encoded label to class index\n",
    "        label = torch.tensor(label, dtype=torch.float32)\n",
    "        label = torch.argmax(label).long()\n",
    "\n",
    "        return sen2_image, label\n"
   ]
  },
  {
   "cell_type": "code",
   "execution_count": 13,
   "id": "bf932b0a-a713-45c6-912d-d13126e9ca19",
   "metadata": {},
   "outputs": [],
   "source": [
    "# Create datasets\n",
    "train_dataset = Sentinel2Dataset(train_sen2_data, train_labels)\n",
    "test_dataset = Sentinel2Dataset(test_sen2_data, test_labels)\n",
    "\n",
    "# Create data loaders\n",
    "train_loader = DataLoader(train_dataset, batch_size=128, shuffle=True)\n",
    "test_loader = DataLoader(test_dataset, batch_size=128, shuffle=False)\n",
    "\n"
   ]
  },
  {
   "cell_type": "code",
   "execution_count": 14,
   "id": "fb92685f-8142-4e6d-aed1-8144df1bdf98",
   "metadata": {},
   "outputs": [],
   "source": [
    "class Sentinel2ConvNet(nn.Module):\n",
    "    def __init__(self, num_classes=17):\n",
    "        super(Sentinel2ConvNet, self).__init__()\n",
    "\n",
    "        # Sentinel-2 branch\n",
    "        self.conv1 = nn.Conv2d(10, 32, kernel_size=3, padding=1)  # Adjusted input channels to 10\n",
    "        self.dropout1 = nn.Dropout(p=0.25)\n",
    "        self.conv2 = nn.Conv2d(32, 64, kernel_size=3, padding=1)\n",
    "        self.dropout2 = nn.Dropout(p=0.25)\n",
    "        self.pool = nn.MaxPool2d(2, 2)\n",
    "\n",
    "        # Fully connected layers\n",
    "        self.fc1 = nn.Linear(64 * 16 * 16, 128)  # Adjust as per the spatial dimensions of the feature map\n",
    "        self.fc1_dropout = nn.Dropout(p=0.5)\n",
    "        self.fc2 = nn.Linear(128, 64)\n",
    "        self.fc2_dropout = nn.Dropout(p=0.5)\n",
    "        self.fc3 = nn.Linear(64, num_classes)\n",
    "\n",
    "    def forward(self, x):\n",
    "        # Sentinel-2 forward pass\n",
    "        x = F.relu(self.conv1(x))\n",
    "        x = self.dropout1(x)\n",
    "        x = self.pool(F.relu(self.conv2(x)))\n",
    "        x = self.dropout2(x)\n",
    "        x = x.view(x.size(0), -1)\n",
    "\n",
    "        # Fully connected layers\n",
    "        x = F.relu(self.fc1(x))\n",
    "        x = self.fc1_dropout(x)\n",
    "        x = F.relu(self.fc2(x))\n",
    "        x = self.fc2_dropout(x)\n",
    "        x = self.fc3(x)\n",
    "\n",
    "        return x\n"
   ]
  },
  {
   "cell_type": "code",
   "execution_count": 15,
   "id": "48ea977b-5567-47ad-b37e-2d72913208cd",
   "metadata": {},
   "outputs": [],
   "source": [
    "# Training function with visualization and memory clearing for Sentinel-2\n",
    "def train_model(model, train_loader, criterion, optimizer, num_epochs, device='cuda'):\n",
    "    model.to(device)\n",
    "    model.train()\n",
    "\n",
    "    train_losses = []  # List to store training loss for visualization\n",
    "\n",
    "    for epoch in range(num_epochs):\n",
    "        running_loss = 0.0\n",
    "        epoch_loss = 0.0\n",
    "\n",
    "        for i, (sen2, labels) in enumerate(train_loader):\n",
    "            sen2, labels = sen2.to(device), labels.to(device)\n",
    "\n",
    "            optimizer.zero_grad()\n",
    "            outputs = model(sen2)  # Forward pass\n",
    "            loss = criterion(outputs, labels)  # Compute loss\n",
    "            loss.backward()  # Backpropagation\n",
    "            optimizer.step()  # Update weights\n",
    "\n",
    "            running_loss += loss.item()\n",
    "            epoch_loss += loss.item()\n",
    "\n",
    "            # Clear memory for each batch (optional but not usually necessary here)\n",
    "            del outputs, loss\n",
    "\n",
    "            if i % 100 == 99:  # Print every 100 mini-batches\n",
    "                print(f'Epoch [{epoch + 1}/{num_epochs}], Step [{i + 1}/{len(train_loader)}], Loss: {running_loss / 100:.4f}')\n",
    "                running_loss = 0.0\n",
    "\n",
    "        # Average loss for the epoch\n",
    "        epoch_loss /= len(train_loader)\n",
    "        train_losses.append(epoch_loss)\n",
    "        print(f'Epoch [{epoch + 1}/{num_epochs}] Average Loss: {epoch_loss:.4f}')\n",
    "\n",
    "        # Clear unused memory after each epoch\n",
    "        torch.cuda.empty_cache()  # Clear GPU memory\n",
    "        gc.collect()  # Trigger garbage collection for CPU memory\n",
    "\n",
    "    print('Training complete')\n",
    "\n",
    "    # Visualization of training loss\n",
    "    plt.figure(figsize=(10, 6))\n",
    "    plt.plot(range(1, len(train_losses) + 1), train_losses, marker='o', label='Training Loss')\n",
    "    plt.xlabel('Epoch')\n",
    "    plt.ylabel('Loss')\n",
    "    plt.title('Training Loss Over Epochs')\n",
    "    plt.legend()\n",
    "    plt.grid()\n",
    "    plt.show()\n"
   ]
  },
  {
   "cell_type": "code",
   "execution_count": 16,
   "id": "ba395fe6-1fcb-40ae-8122-7bbfcee60d98",
   "metadata": {},
   "outputs": [],
   "source": [
    "def evaluate_model(model, test_loader, criterion, device='cuda'):\n",
    "    model.to(device)\n",
    "    model.eval()\n",
    "\n",
    "    total_loss = 0.0\n",
    "    correct_predictions = 0\n",
    "    total_samples = 0\n",
    "\n",
    "    with torch.no_grad():\n",
    "        for sen2, labels in test_loader:\n",
    "            sen2, labels = sen2.to(device), labels.to(device)\n",
    "            outputs = model(sen2)\n",
    "\n",
    "            # Calculate loss\n",
    "            loss = criterion(outputs, labels)\n",
    "            total_loss += loss.item()\n",
    "\n",
    "            # Calculate accuracy\n",
    "            predicted = torch.argmax(outputs, dim=1)\n",
    "            correct_predictions += (predicted == labels).sum().item()\n",
    "            total_samples += labels.size(0)\n",
    "\n",
    "    avg_loss = total_loss / len(test_loader)\n",
    "    accuracy = correct_predictions / total_samples\n",
    "\n",
    "    print(f'Average Test Loss: {avg_loss:.4f}, Accuracy: {accuracy:.4f}')\n",
    "\n",
    "    # Visualization (optional)\n",
    "    plt.figure(figsize=(6, 4))\n",
    "    plt.bar(['Loss', 'Accuracy'], [avg_loss, accuracy])\n",
    "    plt.title('Evaluation Results')\n",
    "    plt.ylabel('Value')\n",
    "    plt.grid()\n",
    "    plt.show()\n",
    "\n",
    "    return avg_loss, accuracy\n"
   ]
  },
  {
   "cell_type": "code",
   "execution_count": 17,
   "id": "d809843d-7b2d-4e6a-9afb-a905abd9d903",
   "metadata": {},
   "outputs": [],
   "source": [
    "# Initialize model, loss function, and optimizer\n",
    "model = Sentinel2ConvNet(num_classes=17)  # Adjust num_classes based on your dataset\n",
    "criterion = nn.CrossEntropyLoss()  # Loss function\n",
    "optimizer = optim.Adam(model.parameters(), lr=0.001)"
   ]
  },
  {
   "cell_type": "code",
   "execution_count": 18,
   "id": "0209824a-a770-4c1a-9386-fcd23cb9c703",
   "metadata": {},
   "outputs": [
    {
     "name": "stdout",
     "output_type": "stream",
     "text": [
      "Epoch [1/50] Average Loss: 2.3865\n",
      "Epoch [2/50] Average Loss: 2.0156\n",
      "Epoch [3/50] Average Loss: 1.8533\n",
      "Epoch [4/50] Average Loss: 1.7552\n",
      "Epoch [5/50] Average Loss: 1.7012\n",
      "Epoch [6/50] Average Loss: 1.6223\n",
      "Epoch [7/50] Average Loss: 1.5977\n",
      "Epoch [8/50] Average Loss: 1.5505\n",
      "Epoch [9/50] Average Loss: 1.5301\n",
      "Epoch [10/50] Average Loss: 1.4944\n",
      "Epoch [11/50] Average Loss: 1.4754\n",
      "Epoch [12/50] Average Loss: 1.4431\n",
      "Epoch [13/50] Average Loss: 1.4786\n",
      "Epoch [14/50] Average Loss: 1.4273\n",
      "Epoch [15/50] Average Loss: 1.4008\n",
      "Epoch [16/50] Average Loss: 1.4112\n",
      "Epoch [17/50] Average Loss: 1.4130\n",
      "Epoch [18/50] Average Loss: 1.3678\n",
      "Epoch [19/50] Average Loss: 1.3214\n",
      "Epoch [20/50] Average Loss: 1.3515\n",
      "Epoch [21/50] Average Loss: 1.3026\n",
      "Epoch [22/50] Average Loss: 1.2853\n",
      "Epoch [23/50] Average Loss: 1.2834\n",
      "Epoch [24/50] Average Loss: 1.2408\n",
      "Epoch [25/50] Average Loss: 1.2515\n",
      "Epoch [26/50] Average Loss: 1.2118\n",
      "Epoch [27/50] Average Loss: 1.2250\n",
      "Epoch [28/50] Average Loss: 1.2153\n",
      "Epoch [29/50] Average Loss: 1.1887\n",
      "Epoch [30/50] Average Loss: 1.1941\n",
      "Epoch [31/50] Average Loss: 1.1664\n",
      "Epoch [32/50] Average Loss: 1.1490\n",
      "Epoch [33/50] Average Loss: 1.1693\n",
      "Epoch [34/50] Average Loss: 1.1248\n",
      "Epoch [35/50] Average Loss: 1.1485\n",
      "Epoch [36/50] Average Loss: 1.1181\n",
      "Epoch [37/50] Average Loss: 1.1031\n",
      "Epoch [38/50] Average Loss: 1.0873\n",
      "Epoch [39/50] Average Loss: 1.0956\n",
      "Epoch [40/50] Average Loss: 1.0798\n",
      "Epoch [41/50] Average Loss: 1.0761\n",
      "Epoch [42/50] Average Loss: 1.0400\n",
      "Epoch [43/50] Average Loss: 1.0411\n",
      "Epoch [44/50] Average Loss: 1.0552\n",
      "Epoch [45/50] Average Loss: 1.0104\n",
      "Epoch [46/50] Average Loss: 0.9891\n",
      "Epoch [47/50] Average Loss: 1.0166\n",
      "Epoch [48/50] Average Loss: 0.9749\n",
      "Epoch [49/50] Average Loss: 0.9533\n",
      "Epoch [50/50] Average Loss: 0.9376\n",
      "Training complete\n"
     ]
    },
    {
     "data": {
      "image/png": "[encoded data removed]",
      "text/plain": [
       "<Figure size 1000x600 with 1 Axes>"
      ]
     },
     "metadata": {},
     "output_type": "display_data"
    }
   ],
   "source": [
    "# Train the model\n",
    "gc.collect()\n",
    "train_model(model, train_loader, criterion, optimizer, num_epochs=50, device='cuda')"
   ]
  },
  {
   "cell_type": "code",
   "execution_count": 19,
   "id": "a8fb799a-17f0-4200-8c58-c608e1eccdc3",
   "metadata": {},
   "outputs": [
    {
     "name": "stdout",
     "output_type": "stream",
     "text": [
      "Average Test Loss: 1.0747, Accuracy: 0.6368\n"
     ]
    },
    {
     "data": {
      "image/png": "[encoded data removed]",
      "text/plain": [
       "<Figure size 600x400 with 1 Axes>"
      ]
     },
     "metadata": {},
     "output_type": "display_data"
    },
    {
     "data": {
      "text/plain": [
       "(1.0747092824715834, 0.6368190356919223)"
      ]
     },
     "execution_count": 19,
     "metadata": {},
     "output_type": "execute_result"
    }
   ],
   "source": [
    "# Perform evaluation\n",
    "gc.collect()\n",
    "evaluate_model(model, test_loader, criterion, device='cuda')"
   ]
  }
 ],
 "metadata": {
  "kernelspec": {
   "display_name": "Python (venv)",
   "language": "python",
   "name": "venv"
  },
  "language_info": {
   "codemirror_mode": {
    "name": "ipython",
    "version": 3
   },
   "file_extension": ".py",
   "mimetype": "text/x-python",
   "name": "python",
   "nbconvert_exporter": "python",
   "pygments_lexer": "ipython3",
   "version": "3.11.9"
  }
 },
 "nbformat": 4,
 "nbformat_minor": 5
}
